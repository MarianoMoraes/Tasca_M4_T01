{
 "cells": [
  {
   "cell_type": "code",
   "execution_count": 534,
   "id": "a9d6b71f",
   "metadata": {},
   "outputs": [],
   "source": [
    "import matplotlib"
   ]
  },
  {
   "cell_type": "code",
   "execution_count": 535,
   "id": "c1977683",
   "metadata": {},
   "outputs": [
    {
     "name": "stdout",
     "output_type": "stream",
     "text": [
      "3.7.0\n"
     ]
    }
   ],
   "source": [
    "print(matplotlib.__version__)"
   ]
  },
  {
   "cell_type": "code",
   "execution_count": 536,
   "id": "0e9178e2",
   "metadata": {},
   "outputs": [],
   "source": [
    "import matplotlib.pyplot as plt"
   ]
  },
  {
   "cell_type": "code",
   "execution_count": 537,
   "id": "4c6a7134",
   "metadata": {},
   "outputs": [],
   "source": [
    "pd.set_option('display.max_rows', None)\n",
    "pd.set_option('display.max_columns', None)\n",
    "pd.set_option('display.width', None)\n",
    "pd.set_option('display.max_colwidth', None)"
   ]
  },
  {
   "cell_type": "markdown",
   "id": "859a814d",
   "metadata": {},
   "source": [
    "# - Exercici 1\n",
    "## Descarrega el dataset adjunt preu lloguer per trimestre i barri.csv extret de la web OpenDataBCN i resumeix-lo estadísticament i gràficament."
   ]
  },
  {
   "cell_type": "code",
   "execution_count": 584,
   "id": "e0782bb8",
   "metadata": {},
   "outputs": [
    {
     "data": {
      "text/html": [
       "<div>\n",
       "<style scoped>\n",
       "    .dataframe tbody tr th:only-of-type {\n",
       "        vertical-align: middle;\n",
       "    }\n",
       "\n",
       "    .dataframe tbody tr th {\n",
       "        vertical-align: top;\n",
       "    }\n",
       "\n",
       "    .dataframe thead th {\n",
       "        text-align: right;\n",
       "    }\n",
       "</style>\n",
       "<table border=\"1\" class=\"dataframe\">\n",
       "  <thead>\n",
       "    <tr style=\"text-align: right;\">\n",
       "      <th></th>\n",
       "      <th>Any</th>\n",
       "      <th>Trimestre</th>\n",
       "      <th>Codi_Districte</th>\n",
       "      <th>Nom_Districte</th>\n",
       "      <th>Codi_Barri</th>\n",
       "      <th>Nom_Barri</th>\n",
       "      <th>Lloguer_mitja</th>\n",
       "      <th>Preu</th>\n",
       "    </tr>\n",
       "  </thead>\n",
       "  <tbody>\n",
       "    <tr>\n",
       "      <th>0</th>\n",
       "      <td>2021</td>\n",
       "      <td>1</td>\n",
       "      <td>1</td>\n",
       "      <td>Ciutat Vella</td>\n",
       "      <td>1</td>\n",
       "      <td>el Raval</td>\n",
       "      <td>Lloguer mitjà mensual (Euros/mes)</td>\n",
       "      <td>759.2</td>\n",
       "    </tr>\n",
       "    <tr>\n",
       "      <th>1</th>\n",
       "      <td>2021</td>\n",
       "      <td>1</td>\n",
       "      <td>1</td>\n",
       "      <td>Ciutat Vella</td>\n",
       "      <td>2</td>\n",
       "      <td>el Barri Gòtic</td>\n",
       "      <td>Lloguer mitjà mensual (Euros/mes)</td>\n",
       "      <td>929.6</td>\n",
       "    </tr>\n",
       "    <tr>\n",
       "      <th>2</th>\n",
       "      <td>2021</td>\n",
       "      <td>1</td>\n",
       "      <td>1</td>\n",
       "      <td>Ciutat Vella</td>\n",
       "      <td>3</td>\n",
       "      <td>la Barceloneta</td>\n",
       "      <td>Lloguer mitjà mensual (Euros/mes)</td>\n",
       "      <td>808.9</td>\n",
       "    </tr>\n",
       "    <tr>\n",
       "      <th>3</th>\n",
       "      <td>2021</td>\n",
       "      <td>1</td>\n",
       "      <td>1</td>\n",
       "      <td>Ciutat Vella</td>\n",
       "      <td>4</td>\n",
       "      <td>Sant Pere, Santa Caterina i la Ribera</td>\n",
       "      <td>Lloguer mitjà mensual (Euros/mes)</td>\n",
       "      <td>879.4</td>\n",
       "    </tr>\n",
       "    <tr>\n",
       "      <th>4</th>\n",
       "      <td>2021</td>\n",
       "      <td>1</td>\n",
       "      <td>2</td>\n",
       "      <td>Eixample</td>\n",
       "      <td>5</td>\n",
       "      <td>el Fort Pienc</td>\n",
       "      <td>Lloguer mitjà mensual (Euros/mes)</td>\n",
       "      <td>918.0</td>\n",
       "    </tr>\n",
       "  </tbody>\n",
       "</table>\n",
       "</div>"
      ],
      "text/plain": [
       "    Any  Trimestre  Codi_Districte Nom_Districte  Codi_Barri  \\\n",
       "0  2021          1               1  Ciutat Vella           1   \n",
       "1  2021          1               1  Ciutat Vella           2   \n",
       "2  2021          1               1  Ciutat Vella           3   \n",
       "3  2021          1               1  Ciutat Vella           4   \n",
       "4  2021          1               2      Eixample           5   \n",
       "\n",
       "                               Nom_Barri                      Lloguer_mitja  \\\n",
       "0                               el Raval  Lloguer mitjà mensual (Euros/mes)   \n",
       "1                         el Barri Gòtic  Lloguer mitjà mensual (Euros/mes)   \n",
       "2                         la Barceloneta  Lloguer mitjà mensual (Euros/mes)   \n",
       "3  Sant Pere, Santa Caterina i la Ribera  Lloguer mitjà mensual (Euros/mes)   \n",
       "4                          el Fort Pienc  Lloguer mitjà mensual (Euros/mes)   \n",
       "\n",
       "    Preu  \n",
       "0  759.2  \n",
       "1  929.6  \n",
       "2  808.9  \n",
       "3  879.4  \n",
       "4  918.0  "
      ]
     },
     "execution_count": 584,
     "metadata": {},
     "output_type": "execute_result"
    }
   ],
   "source": [
    "import pandas as pd\n",
    "df = pd.read_csv('lloguerBCN.csv')\n",
    "df.head()"
   ]
  },
  {
   "cell_type": "markdown",
   "id": "8b47faef",
   "metadata": {},
   "source": [
    "### Importamos el Dataset y mostramos las columnas en donde podemos ver Nom_Districte que hace referencia al nombre del distrito donde se ubica el alquiler, Trimestre que del 1 al 4 indica en que trimistre del año nos se encuentra el registro, Nom_Barri hace referencia al nombre del barrio donde se encuentra el alquiler, Lloguer_mitja que hace referencia a si el alquiler esta expresado en precio medio mensual (Euros/mes)  o precio por m2 (Euros/m2 mes) , Preu para reflejar el precio , Any donde se repiten los registros ya que el dataset solo provee datos del año 2021, Codi_Districte y Codi_Barri indican con numeros referenciando los nombres de cada barrio "
   ]
  },
  {
   "cell_type": "code",
   "execution_count": 585,
   "id": "c9a39775",
   "metadata": {},
   "outputs": [
    {
     "data": {
      "text/html": [
       "<div>\n",
       "<style scoped>\n",
       "    .dataframe tbody tr th:only-of-type {\n",
       "        vertical-align: middle;\n",
       "    }\n",
       "\n",
       "    .dataframe tbody tr th {\n",
       "        vertical-align: top;\n",
       "    }\n",
       "\n",
       "    .dataframe thead th {\n",
       "        text-align: right;\n",
       "    }\n",
       "</style>\n",
       "<table border=\"1\" class=\"dataframe\">\n",
       "  <thead>\n",
       "    <tr style=\"text-align: right;\">\n",
       "      <th></th>\n",
       "      <th>Any</th>\n",
       "      <th>Trimestre</th>\n",
       "      <th>Codi_Districte</th>\n",
       "      <th>Nom_Districte</th>\n",
       "      <th>Codi_Barri</th>\n",
       "      <th>Nom_Barri</th>\n",
       "      <th>Lloguer_mitja</th>\n",
       "      <th>Preu</th>\n",
       "    </tr>\n",
       "  </thead>\n",
       "  <tbody>\n",
       "    <tr>\n",
       "      <th>0</th>\n",
       "      <td>2021</td>\n",
       "      <td>1</td>\n",
       "      <td>1</td>\n",
       "      <td>Ciutat Vella</td>\n",
       "      <td>1</td>\n",
       "      <td>el Raval</td>\n",
       "      <td>Lloguer mitjà mensual (Euros/mes)</td>\n",
       "      <td>759.2</td>\n",
       "    </tr>\n",
       "    <tr>\n",
       "      <th>1</th>\n",
       "      <td>2021</td>\n",
       "      <td>1</td>\n",
       "      <td>1</td>\n",
       "      <td>Ciutat Vella</td>\n",
       "      <td>2</td>\n",
       "      <td>el Barri Gòtic</td>\n",
       "      <td>Lloguer mitjà mensual (Euros/mes)</td>\n",
       "      <td>929.6</td>\n",
       "    </tr>\n",
       "    <tr>\n",
       "      <th>2</th>\n",
       "      <td>2021</td>\n",
       "      <td>1</td>\n",
       "      <td>1</td>\n",
       "      <td>Ciutat Vella</td>\n",
       "      <td>3</td>\n",
       "      <td>la Barceloneta</td>\n",
       "      <td>Lloguer mitjà mensual (Euros/mes)</td>\n",
       "      <td>808.9</td>\n",
       "    </tr>\n",
       "    <tr>\n",
       "      <th>3</th>\n",
       "      <td>2021</td>\n",
       "      <td>1</td>\n",
       "      <td>1</td>\n",
       "      <td>Ciutat Vella</td>\n",
       "      <td>4</td>\n",
       "      <td>Sant Pere, Santa Caterina i la Ribera</td>\n",
       "      <td>Lloguer mitjà mensual (Euros/mes)</td>\n",
       "      <td>879.4</td>\n",
       "    </tr>\n",
       "    <tr>\n",
       "      <th>4</th>\n",
       "      <td>2021</td>\n",
       "      <td>1</td>\n",
       "      <td>2</td>\n",
       "      <td>Eixample</td>\n",
       "      <td>5</td>\n",
       "      <td>el Fort Pienc</td>\n",
       "      <td>Lloguer mitjà mensual (Euros/mes)</td>\n",
       "      <td>918.0</td>\n",
       "    </tr>\n",
       "  </tbody>\n",
       "</table>\n",
       "</div>"
      ],
      "text/plain": [
       "    Any  Trimestre  Codi_Districte Nom_Districte  Codi_Barri  \\\n",
       "0  2021          1               1  Ciutat Vella           1   \n",
       "1  2021          1               1  Ciutat Vella           2   \n",
       "2  2021          1               1  Ciutat Vella           3   \n",
       "3  2021          1               1  Ciutat Vella           4   \n",
       "4  2021          1               2      Eixample           5   \n",
       "\n",
       "                               Nom_Barri                      Lloguer_mitja  \\\n",
       "0                               el Raval  Lloguer mitjà mensual (Euros/mes)   \n",
       "1                         el Barri Gòtic  Lloguer mitjà mensual (Euros/mes)   \n",
       "2                         la Barceloneta  Lloguer mitjà mensual (Euros/mes)   \n",
       "3  Sant Pere, Santa Caterina i la Ribera  Lloguer mitjà mensual (Euros/mes)   \n",
       "4                          el Fort Pienc  Lloguer mitjà mensual (Euros/mes)   \n",
       "\n",
       "    Preu  \n",
       "0  759.2  \n",
       "1  929.6  \n",
       "2  808.9  \n",
       "3  879.4  \n",
       "4  918.0  "
      ]
     },
     "execution_count": 585,
     "metadata": {},
     "output_type": "execute_result"
    }
   ],
   "source": [
    "df_filtered = df[~df['Lloguer_mitja'].str.contains('Euros/m2')] # con el metodo str.contains indicamos que elimine los rgistros que contiene estas palabras.\n",
    "df_filtered.head()"
   ]
  },
  {
   "cell_type": "markdown",
   "id": "36c5eff7",
   "metadata": {},
   "source": [
    "### Uno de los principales problemas que podemos identificar en este Dataset es que la columna \"Preu\" esta expresada en precio medio por mes y precio medio por m2 por lo que mediante el metodo str.contains eliminamos los registros que tengan m2, De este modo nos quedan 510 registros en el Dataset."
   ]
  },
  {
   "cell_type": "code",
   "execution_count": 586,
   "id": "2090d087",
   "metadata": {},
   "outputs": [
    {
     "data": {
      "text/html": [
       "<div>\n",
       "<style scoped>\n",
       "    .dataframe tbody tr th:only-of-type {\n",
       "        vertical-align: middle;\n",
       "    }\n",
       "\n",
       "    .dataframe tbody tr th {\n",
       "        vertical-align: top;\n",
       "    }\n",
       "\n",
       "    .dataframe thead th {\n",
       "        text-align: right;\n",
       "    }\n",
       "</style>\n",
       "<table border=\"1\" class=\"dataframe\">\n",
       "  <thead>\n",
       "    <tr style=\"text-align: right;\">\n",
       "      <th></th>\n",
       "      <th>Nom_Districte</th>\n",
       "      <th>Trimestre</th>\n",
       "      <th>Nom_Barri</th>\n",
       "      <th>Preu</th>\n",
       "      <th>Lloguer_mitja</th>\n",
       "    </tr>\n",
       "  </thead>\n",
       "  <tbody>\n",
       "    <tr>\n",
       "      <th>0</th>\n",
       "      <td>Ciutat Vella</td>\n",
       "      <td>1</td>\n",
       "      <td>el Raval</td>\n",
       "      <td>759.2</td>\n",
       "      <td>Lloguer mitjà mensual (Euros/mes)</td>\n",
       "    </tr>\n",
       "    <tr>\n",
       "      <th>1</th>\n",
       "      <td>Ciutat Vella</td>\n",
       "      <td>1</td>\n",
       "      <td>el Barri Gòtic</td>\n",
       "      <td>929.6</td>\n",
       "      <td>Lloguer mitjà mensual (Euros/mes)</td>\n",
       "    </tr>\n",
       "    <tr>\n",
       "      <th>2</th>\n",
       "      <td>Ciutat Vella</td>\n",
       "      <td>1</td>\n",
       "      <td>la Barceloneta</td>\n",
       "      <td>808.9</td>\n",
       "      <td>Lloguer mitjà mensual (Euros/mes)</td>\n",
       "    </tr>\n",
       "    <tr>\n",
       "      <th>3</th>\n",
       "      <td>Ciutat Vella</td>\n",
       "      <td>1</td>\n",
       "      <td>Sant Pere, Santa Caterina i la Ribera</td>\n",
       "      <td>879.4</td>\n",
       "      <td>Lloguer mitjà mensual (Euros/mes)</td>\n",
       "    </tr>\n",
       "    <tr>\n",
       "      <th>4</th>\n",
       "      <td>Eixample</td>\n",
       "      <td>1</td>\n",
       "      <td>el Fort Pienc</td>\n",
       "      <td>918.0</td>\n",
       "      <td>Lloguer mitjà mensual (Euros/mes)</td>\n",
       "    </tr>\n",
       "    <tr>\n",
       "      <th>5</th>\n",
       "      <td>Eixample</td>\n",
       "      <td>1</td>\n",
       "      <td>la Sagrada Família</td>\n",
       "      <td>887.1</td>\n",
       "      <td>Lloguer mitjà mensual (Euros/mes)</td>\n",
       "    </tr>\n",
       "    <tr>\n",
       "      <th>6</th>\n",
       "      <td>Eixample</td>\n",
       "      <td>1</td>\n",
       "      <td>la Dreta de l'Eixample</td>\n",
       "      <td>1176.7</td>\n",
       "      <td>Lloguer mitjà mensual (Euros/mes)</td>\n",
       "    </tr>\n",
       "    <tr>\n",
       "      <th>7</th>\n",
       "      <td>Eixample</td>\n",
       "      <td>1</td>\n",
       "      <td>l'Antiga Esquerra de l'Eixample</td>\n",
       "      <td>1040.2</td>\n",
       "      <td>Lloguer mitjà mensual (Euros/mes)</td>\n",
       "    </tr>\n",
       "    <tr>\n",
       "      <th>8</th>\n",
       "      <td>Eixample</td>\n",
       "      <td>1</td>\n",
       "      <td>la Nova Esquerra de l'Eixample</td>\n",
       "      <td>964.0</td>\n",
       "      <td>Lloguer mitjà mensual (Euros/mes)</td>\n",
       "    </tr>\n",
       "    <tr>\n",
       "      <th>9</th>\n",
       "      <td>Eixample</td>\n",
       "      <td>1</td>\n",
       "      <td>Sant Antoni</td>\n",
       "      <td>898.7</td>\n",
       "      <td>Lloguer mitjà mensual (Euros/mes)</td>\n",
       "    </tr>\n",
       "    <tr>\n",
       "      <th>10</th>\n",
       "      <td>Sants-Montjuïc</td>\n",
       "      <td>1</td>\n",
       "      <td>el Poble Sec</td>\n",
       "      <td>781.6</td>\n",
       "      <td>Lloguer mitjà mensual (Euros/mes)</td>\n",
       "    </tr>\n",
       "    <tr>\n",
       "      <th>11</th>\n",
       "      <td>Sants-Montjuïc</td>\n",
       "      <td>1</td>\n",
       "      <td>la Marina del Prat Vermell</td>\n",
       "      <td>--</td>\n",
       "      <td>Lloguer mitjà mensual (Euros/mes)</td>\n",
       "    </tr>\n",
       "    <tr>\n",
       "      <th>12</th>\n",
       "      <td>Sants-Montjuïc</td>\n",
       "      <td>1</td>\n",
       "      <td>la Marina de Port</td>\n",
       "      <td>810.6</td>\n",
       "      <td>Lloguer mitjà mensual (Euros/mes)</td>\n",
       "    </tr>\n",
       "    <tr>\n",
       "      <th>13</th>\n",
       "      <td>Sants-Montjuïc</td>\n",
       "      <td>1</td>\n",
       "      <td>la Font de la Guatlla</td>\n",
       "      <td>799.5</td>\n",
       "      <td>Lloguer mitjà mensual (Euros/mes)</td>\n",
       "    </tr>\n",
       "    <tr>\n",
       "      <th>14</th>\n",
       "      <td>Sants-Montjuïc</td>\n",
       "      <td>1</td>\n",
       "      <td>Hostafrancs</td>\n",
       "      <td>778.4</td>\n",
       "      <td>Lloguer mitjà mensual (Euros/mes)</td>\n",
       "    </tr>\n",
       "    <tr>\n",
       "      <th>15</th>\n",
       "      <td>Sants-Montjuïc</td>\n",
       "      <td>1</td>\n",
       "      <td>la Bordeta</td>\n",
       "      <td>807.6</td>\n",
       "      <td>Lloguer mitjà mensual (Euros/mes)</td>\n",
       "    </tr>\n",
       "    <tr>\n",
       "      <th>16</th>\n",
       "      <td>Sants-Montjuïc</td>\n",
       "      <td>1</td>\n",
       "      <td>Sants - Badal</td>\n",
       "      <td>788.1</td>\n",
       "      <td>Lloguer mitjà mensual (Euros/mes)</td>\n",
       "    </tr>\n",
       "    <tr>\n",
       "      <th>17</th>\n",
       "      <td>Sants-Montjuïc</td>\n",
       "      <td>1</td>\n",
       "      <td>Sants</td>\n",
       "      <td>829.1</td>\n",
       "      <td>Lloguer mitjà mensual (Euros/mes)</td>\n",
       "    </tr>\n",
       "    <tr>\n",
       "      <th>18</th>\n",
       "      <td>Les Corts</td>\n",
       "      <td>1</td>\n",
       "      <td>les Corts</td>\n",
       "      <td>990.3</td>\n",
       "      <td>Lloguer mitjà mensual (Euros/mes)</td>\n",
       "    </tr>\n",
       "    <tr>\n",
       "      <th>19</th>\n",
       "      <td>Les Corts</td>\n",
       "      <td>1</td>\n",
       "      <td>la Maternitat i Sant Ramon</td>\n",
       "      <td>927.3</td>\n",
       "      <td>Lloguer mitjà mensual (Euros/mes)</td>\n",
       "    </tr>\n",
       "    <tr>\n",
       "      <th>20</th>\n",
       "      <td>Les Corts</td>\n",
       "      <td>1</td>\n",
       "      <td>Pedralbes</td>\n",
       "      <td>1598.2</td>\n",
       "      <td>Lloguer mitjà mensual (Euros/mes)</td>\n",
       "    </tr>\n",
       "  </tbody>\n",
       "</table>\n",
       "</div>"
      ],
      "text/plain": [
       "     Nom_Districte  Trimestre                              Nom_Barri    Preu  \\\n",
       "0     Ciutat Vella          1                               el Raval   759.2   \n",
       "1     Ciutat Vella          1                         el Barri Gòtic   929.6   \n",
       "2     Ciutat Vella          1                         la Barceloneta   808.9   \n",
       "3     Ciutat Vella          1  Sant Pere, Santa Caterina i la Ribera   879.4   \n",
       "4         Eixample          1                          el Fort Pienc   918.0   \n",
       "5         Eixample          1                     la Sagrada Família   887.1   \n",
       "6         Eixample          1                 la Dreta de l'Eixample  1176.7   \n",
       "7         Eixample          1        l'Antiga Esquerra de l'Eixample  1040.2   \n",
       "8         Eixample          1         la Nova Esquerra de l'Eixample   964.0   \n",
       "9         Eixample          1                            Sant Antoni   898.7   \n",
       "10  Sants-Montjuïc          1                           el Poble Sec   781.6   \n",
       "11  Sants-Montjuïc          1             la Marina del Prat Vermell      --   \n",
       "12  Sants-Montjuïc          1                      la Marina de Port   810.6   \n",
       "13  Sants-Montjuïc          1                  la Font de la Guatlla   799.5   \n",
       "14  Sants-Montjuïc          1                            Hostafrancs   778.4   \n",
       "15  Sants-Montjuïc          1                             la Bordeta   807.6   \n",
       "16  Sants-Montjuïc          1                          Sants - Badal   788.1   \n",
       "17  Sants-Montjuïc          1                                  Sants   829.1   \n",
       "18       Les Corts          1                              les Corts   990.3   \n",
       "19       Les Corts          1             la Maternitat i Sant Ramon   927.3   \n",
       "20       Les Corts          1                              Pedralbes  1598.2   \n",
       "\n",
       "                        Lloguer_mitja  \n",
       "0   Lloguer mitjà mensual (Euros/mes)  \n",
       "1   Lloguer mitjà mensual (Euros/mes)  \n",
       "2   Lloguer mitjà mensual (Euros/mes)  \n",
       "3   Lloguer mitjà mensual (Euros/mes)  \n",
       "4   Lloguer mitjà mensual (Euros/mes)  \n",
       "5   Lloguer mitjà mensual (Euros/mes)  \n",
       "6   Lloguer mitjà mensual (Euros/mes)  \n",
       "7   Lloguer mitjà mensual (Euros/mes)  \n",
       "8   Lloguer mitjà mensual (Euros/mes)  \n",
       "9   Lloguer mitjà mensual (Euros/mes)  \n",
       "10  Lloguer mitjà mensual (Euros/mes)  \n",
       "11  Lloguer mitjà mensual (Euros/mes)  \n",
       "12  Lloguer mitjà mensual (Euros/mes)  \n",
       "13  Lloguer mitjà mensual (Euros/mes)  \n",
       "14  Lloguer mitjà mensual (Euros/mes)  \n",
       "15  Lloguer mitjà mensual (Euros/mes)  \n",
       "16  Lloguer mitjà mensual (Euros/mes)  \n",
       "17  Lloguer mitjà mensual (Euros/mes)  \n",
       "18  Lloguer mitjà mensual (Euros/mes)  \n",
       "19  Lloguer mitjà mensual (Euros/mes)  \n",
       "20  Lloguer mitjà mensual (Euros/mes)  "
      ]
     },
     "execution_count": 586,
     "metadata": {},
     "output_type": "execute_result"
    }
   ],
   "source": [
    "misColumnas = ['Nom_Districte', 'Trimestre' , 'Nom_Barri', 'Preu', 'Lloguer_mitja']\n",
    "my_df = df_filtered[misColumnas]\n",
    "my_df.head(21)"
   ]
  },
  {
   "cell_type": "markdown",
   "id": "165b6665",
   "metadata": {},
   "source": [
    "### Filtramos el Dataset con las columnas de nuestro interes para resolver los ejercicios, a nustras nuevas columnas las llamaremos con un nuevo nombre en este caso my_df en donde nos quedaremos con casi todas excepto Any,  refleja el Año pero siempre se repetira ya que el dataset solo contiene datos del año 2021, Codi_Barri y Codi_Districte ya que no nos haran falta para resolver nuestros ejercicios y enseñamos los primeros 20 registros con el metodo head()"
   ]
  },
  {
   "cell_type": "code",
   "execution_count": 587,
   "id": "236841f2",
   "metadata": {},
   "outputs": [
    {
     "data": {
      "text/plain": [
       "count     292\n",
       "unique    258\n",
       "top        --\n",
       "freq       22\n",
       "Name: Preu, dtype: object"
      ]
     },
     "execution_count": 587,
     "metadata": {},
     "output_type": "execute_result"
    }
   ],
   "source": [
    "my_df['Preu'].describe()"
   ]
  },
  {
   "cell_type": "code",
   "execution_count": 588,
   "id": "cafd2d75",
   "metadata": {},
   "outputs": [
    {
     "name": "stderr",
     "output_type": "stream",
     "text": [
      "/var/folders/qn/t_d0_whn09sdmbx1px99544c0000gn/T/ipykernel_31740/1232860533.py:1: SettingWithCopyWarning: \n",
      "A value is trying to be set on a copy of a slice from a DataFrame.\n",
      "Try using .loc[row_indexer,col_indexer] = value instead\n",
      "\n",
      "See the caveats in the documentation: https://pandas.pydata.org/pandas-docs/stable/user_guide/indexing.html#returning-a-view-versus-a-copy\n",
      "  my_df['Preu'] = pd.to_numeric(my_df['Preu'], errors='coerce')\n"
     ]
    },
    {
     "data": {
      "text/plain": [
       "count     270.000000\n",
       "mean      871.593704\n",
       "std       221.192799\n",
       "min       447.500000\n",
       "25%       742.475000\n",
       "50%       816.350000\n",
       "75%       934.525000\n",
       "max      1816.500000\n",
       "Name: Preu, dtype: float64"
      ]
     },
     "execution_count": 588,
     "metadata": {},
     "output_type": "execute_result"
    }
   ],
   "source": [
    "my_df['Preu'] = pd.to_numeric(my_df['Preu'], errors='coerce')\n",
    "my_df['Preu'].describe()"
   ]
  },
  {
   "cell_type": "markdown",
   "id": "a1366f81",
   "metadata": {},
   "source": [
    "### En el paso anterior intentamos hacer un descripcion estadistica solo de la columna Preu la cual tiene un data type objetc con lo cual la convertimos a formato numerico con el metodo pd.to_numeric, para posteriormete poder hacer una analisis estadistico lo que nos arroja un conteo de 270 registros de un total de 583 esto puede significar que hay valores NaN."
   ]
  },
  {
   "cell_type": "code",
   "execution_count": 589,
   "id": "c70192b9",
   "metadata": {},
   "outputs": [
    {
     "data": {
      "text/plain": [
       "0      759.2\n",
       "1      929.6\n",
       "2      808.9\n",
       "3      879.4\n",
       "4      918.0\n",
       "5      887.1\n",
       "6     1176.7\n",
       "7     1040.2\n",
       "8      964.0\n",
       "9      898.7\n",
       "10     781.6\n",
       "11       NaN\n",
       "12     810.6\n",
       "13     799.5\n",
       "14     778.4\n",
       "Name: Preu, dtype: float64"
      ]
     },
     "execution_count": 589,
     "metadata": {},
     "output_type": "execute_result"
    }
   ],
   "source": [
    "my_df['Preu'].head(15)"
   ]
  },
  {
   "cell_type": "markdown",
   "id": "a52147dc",
   "metadata": {},
   "source": [
    "### Como podemos ver existe valores NaN que deben ser o bien eliminados o bien pueden ser rellenados con la media de los precios, algo que para alquileres puede ser correcto ya que la oscilacion entre precios no es tanta."
   ]
  },
  {
   "cell_type": "code",
   "execution_count": 590,
   "id": "1c938147",
   "metadata": {},
   "outputs": [
    {
     "data": {
      "text/html": [
       "<div>\n",
       "<style scoped>\n",
       "    .dataframe tbody tr th:only-of-type {\n",
       "        vertical-align: middle;\n",
       "    }\n",
       "\n",
       "    .dataframe tbody tr th {\n",
       "        vertical-align: top;\n",
       "    }\n",
       "\n",
       "    .dataframe thead th {\n",
       "        text-align: right;\n",
       "    }\n",
       "</style>\n",
       "<table border=\"1\" class=\"dataframe\">\n",
       "  <thead>\n",
       "    <tr style=\"text-align: right;\">\n",
       "      <th></th>\n",
       "      <th>Nom_Districte</th>\n",
       "      <th>Trimestre</th>\n",
       "      <th>Nom_Barri</th>\n",
       "      <th>Preu</th>\n",
       "      <th>Lloguer_mitja</th>\n",
       "    </tr>\n",
       "  </thead>\n",
       "  <tbody>\n",
       "    <tr>\n",
       "      <th>0</th>\n",
       "      <td>Ciutat Vella</td>\n",
       "      <td>1</td>\n",
       "      <td>el Raval</td>\n",
       "      <td>759.200000</td>\n",
       "      <td>Lloguer mitjà mensual (Euros/mes)</td>\n",
       "    </tr>\n",
       "    <tr>\n",
       "      <th>1</th>\n",
       "      <td>Ciutat Vella</td>\n",
       "      <td>1</td>\n",
       "      <td>el Barri Gòtic</td>\n",
       "      <td>929.600000</td>\n",
       "      <td>Lloguer mitjà mensual (Euros/mes)</td>\n",
       "    </tr>\n",
       "    <tr>\n",
       "      <th>2</th>\n",
       "      <td>Ciutat Vella</td>\n",
       "      <td>1</td>\n",
       "      <td>la Barceloneta</td>\n",
       "      <td>808.900000</td>\n",
       "      <td>Lloguer mitjà mensual (Euros/mes)</td>\n",
       "    </tr>\n",
       "    <tr>\n",
       "      <th>3</th>\n",
       "      <td>Ciutat Vella</td>\n",
       "      <td>1</td>\n",
       "      <td>Sant Pere, Santa Caterina i la Ribera</td>\n",
       "      <td>879.400000</td>\n",
       "      <td>Lloguer mitjà mensual (Euros/mes)</td>\n",
       "    </tr>\n",
       "    <tr>\n",
       "      <th>4</th>\n",
       "      <td>Eixample</td>\n",
       "      <td>1</td>\n",
       "      <td>el Fort Pienc</td>\n",
       "      <td>918.000000</td>\n",
       "      <td>Lloguer mitjà mensual (Euros/mes)</td>\n",
       "    </tr>\n",
       "    <tr>\n",
       "      <th>5</th>\n",
       "      <td>Eixample</td>\n",
       "      <td>1</td>\n",
       "      <td>la Sagrada Família</td>\n",
       "      <td>887.100000</td>\n",
       "      <td>Lloguer mitjà mensual (Euros/mes)</td>\n",
       "    </tr>\n",
       "    <tr>\n",
       "      <th>6</th>\n",
       "      <td>Eixample</td>\n",
       "      <td>1</td>\n",
       "      <td>la Dreta de l'Eixample</td>\n",
       "      <td>1176.700000</td>\n",
       "      <td>Lloguer mitjà mensual (Euros/mes)</td>\n",
       "    </tr>\n",
       "    <tr>\n",
       "      <th>7</th>\n",
       "      <td>Eixample</td>\n",
       "      <td>1</td>\n",
       "      <td>l'Antiga Esquerra de l'Eixample</td>\n",
       "      <td>1040.200000</td>\n",
       "      <td>Lloguer mitjà mensual (Euros/mes)</td>\n",
       "    </tr>\n",
       "    <tr>\n",
       "      <th>8</th>\n",
       "      <td>Eixample</td>\n",
       "      <td>1</td>\n",
       "      <td>la Nova Esquerra de l'Eixample</td>\n",
       "      <td>964.000000</td>\n",
       "      <td>Lloguer mitjà mensual (Euros/mes)</td>\n",
       "    </tr>\n",
       "    <tr>\n",
       "      <th>9</th>\n",
       "      <td>Eixample</td>\n",
       "      <td>1</td>\n",
       "      <td>Sant Antoni</td>\n",
       "      <td>898.700000</td>\n",
       "      <td>Lloguer mitjà mensual (Euros/mes)</td>\n",
       "    </tr>\n",
       "    <tr>\n",
       "      <th>10</th>\n",
       "      <td>Sants-Montjuïc</td>\n",
       "      <td>1</td>\n",
       "      <td>el Poble Sec</td>\n",
       "      <td>781.600000</td>\n",
       "      <td>Lloguer mitjà mensual (Euros/mes)</td>\n",
       "    </tr>\n",
       "    <tr>\n",
       "      <th>11</th>\n",
       "      <td>Sants-Montjuïc</td>\n",
       "      <td>1</td>\n",
       "      <td>la Marina del Prat Vermell</td>\n",
       "      <td>871.593704</td>\n",
       "      <td>Lloguer mitjà mensual (Euros/mes)</td>\n",
       "    </tr>\n",
       "    <tr>\n",
       "      <th>12</th>\n",
       "      <td>Sants-Montjuïc</td>\n",
       "      <td>1</td>\n",
       "      <td>la Marina de Port</td>\n",
       "      <td>810.600000</td>\n",
       "      <td>Lloguer mitjà mensual (Euros/mes)</td>\n",
       "    </tr>\n",
       "    <tr>\n",
       "      <th>13</th>\n",
       "      <td>Sants-Montjuïc</td>\n",
       "      <td>1</td>\n",
       "      <td>la Font de la Guatlla</td>\n",
       "      <td>799.500000</td>\n",
       "      <td>Lloguer mitjà mensual (Euros/mes)</td>\n",
       "    </tr>\n",
       "    <tr>\n",
       "      <th>14</th>\n",
       "      <td>Sants-Montjuïc</td>\n",
       "      <td>1</td>\n",
       "      <td>Hostafrancs</td>\n",
       "      <td>778.400000</td>\n",
       "      <td>Lloguer mitjà mensual (Euros/mes)</td>\n",
       "    </tr>\n",
       "  </tbody>\n",
       "</table>\n",
       "</div>"
      ],
      "text/plain": [
       "     Nom_Districte  Trimestre                              Nom_Barri  \\\n",
       "0     Ciutat Vella          1                               el Raval   \n",
       "1     Ciutat Vella          1                         el Barri Gòtic   \n",
       "2     Ciutat Vella          1                         la Barceloneta   \n",
       "3     Ciutat Vella          1  Sant Pere, Santa Caterina i la Ribera   \n",
       "4         Eixample          1                          el Fort Pienc   \n",
       "5         Eixample          1                     la Sagrada Família   \n",
       "6         Eixample          1                 la Dreta de l'Eixample   \n",
       "7         Eixample          1        l'Antiga Esquerra de l'Eixample   \n",
       "8         Eixample          1         la Nova Esquerra de l'Eixample   \n",
       "9         Eixample          1                            Sant Antoni   \n",
       "10  Sants-Montjuïc          1                           el Poble Sec   \n",
       "11  Sants-Montjuïc          1             la Marina del Prat Vermell   \n",
       "12  Sants-Montjuïc          1                      la Marina de Port   \n",
       "13  Sants-Montjuïc          1                  la Font de la Guatlla   \n",
       "14  Sants-Montjuïc          1                            Hostafrancs   \n",
       "\n",
       "           Preu                      Lloguer_mitja  \n",
       "0    759.200000  Lloguer mitjà mensual (Euros/mes)  \n",
       "1    929.600000  Lloguer mitjà mensual (Euros/mes)  \n",
       "2    808.900000  Lloguer mitjà mensual (Euros/mes)  \n",
       "3    879.400000  Lloguer mitjà mensual (Euros/mes)  \n",
       "4    918.000000  Lloguer mitjà mensual (Euros/mes)  \n",
       "5    887.100000  Lloguer mitjà mensual (Euros/mes)  \n",
       "6   1176.700000  Lloguer mitjà mensual (Euros/mes)  \n",
       "7   1040.200000  Lloguer mitjà mensual (Euros/mes)  \n",
       "8    964.000000  Lloguer mitjà mensual (Euros/mes)  \n",
       "9    898.700000  Lloguer mitjà mensual (Euros/mes)  \n",
       "10   781.600000  Lloguer mitjà mensual (Euros/mes)  \n",
       "11   871.593704  Lloguer mitjà mensual (Euros/mes)  \n",
       "12   810.600000  Lloguer mitjà mensual (Euros/mes)  \n",
       "13   799.500000  Lloguer mitjà mensual (Euros/mes)  \n",
       "14   778.400000  Lloguer mitjà mensual (Euros/mes)  "
      ]
     },
     "execution_count": 590,
     "metadata": {},
     "output_type": "execute_result"
    }
   ],
   "source": [
    "mean_preu = my_df['Preu'].mean()\n",
    "preu_filled = my_df.fillna({'Preu': mean_preu})\n",
    "preu_filled.head(15)"
   ]
  },
  {
   "cell_type": "code",
   "execution_count": 591,
   "id": "cbc6e002",
   "metadata": {},
   "outputs": [
    {
     "data": {
      "text/html": [
       "<div>\n",
       "<style scoped>\n",
       "    .dataframe tbody tr th:only-of-type {\n",
       "        vertical-align: middle;\n",
       "    }\n",
       "\n",
       "    .dataframe tbody tr th {\n",
       "        vertical-align: top;\n",
       "    }\n",
       "\n",
       "    .dataframe thead th {\n",
       "        text-align: right;\n",
       "    }\n",
       "</style>\n",
       "<table border=\"1\" class=\"dataframe\">\n",
       "  <thead>\n",
       "    <tr style=\"text-align: right;\">\n",
       "      <th></th>\n",
       "      <th>count</th>\n",
       "      <th>mean</th>\n",
       "      <th>std</th>\n",
       "      <th>min</th>\n",
       "      <th>25%</th>\n",
       "      <th>50%</th>\n",
       "      <th>75%</th>\n",
       "      <th>max</th>\n",
       "    </tr>\n",
       "  </thead>\n",
       "  <tbody>\n",
       "    <tr>\n",
       "      <th>Trimestre</th>\n",
       "      <td>292.0</td>\n",
       "      <td>2.500000</td>\n",
       "      <td>1.119953</td>\n",
       "      <td>1.0</td>\n",
       "      <td>1.75</td>\n",
       "      <td>2.5</td>\n",
       "      <td>3.25</td>\n",
       "      <td>4.0</td>\n",
       "    </tr>\n",
       "    <tr>\n",
       "      <th>Preu</th>\n",
       "      <td>292.0</td>\n",
       "      <td>871.593704</td>\n",
       "      <td>212.667257</td>\n",
       "      <td>447.5</td>\n",
       "      <td>750.80</td>\n",
       "      <td>826.1</td>\n",
       "      <td>927.75</td>\n",
       "      <td>1816.5</td>\n",
       "    </tr>\n",
       "  </tbody>\n",
       "</table>\n",
       "</div>"
      ],
      "text/plain": [
       "           count        mean         std    min     25%    50%     75%     max\n",
       "Trimestre  292.0    2.500000    1.119953    1.0    1.75    2.5    3.25     4.0\n",
       "Preu       292.0  871.593704  212.667257  447.5  750.80  826.1  927.75  1816.5"
      ]
     },
     "execution_count": 591,
     "metadata": {},
     "output_type": "execute_result"
    }
   ],
   "source": [
    "preu_filled.describe().T"
   ]
  },
  {
   "cell_type": "markdown",
   "id": "ca93a9d4",
   "metadata": {},
   "source": [
    "### Luego de visualizar nuevamente la columna \"Preu\" podemos ver que hay valores NaN lo que puede afectar a cualquier analisis estadistico que querramos realizar, por lo que mediante el metodo .mean asignamos el valor medio a la variable mean_preu y luego con el metodo .fillna asignamos ese precio medio a los valores que sean Nan. De esta menera finalemtne podemos ver que la columna \"Preu\" En este caso podemos ver que hay 290 registros de los 583 con los que comenzamos. Por otra parte obtenemos la media 871.59,  el minimo 447.5 y el maximo 1816.50 como datos relevantes al momento."
   ]
  },
  {
   "cell_type": "code",
   "execution_count": 592,
   "id": "cc1ecee3",
   "metadata": {},
   "outputs": [
    {
     "name": "stderr",
     "output_type": "stream",
     "text": [
      "/var/folders/qn/t_d0_whn09sdmbx1px99544c0000gn/T/ipykernel_31740/2389768515.py:1: SettingWithCopyWarning: \n",
      "A value is trying to be set on a copy of a slice from a DataFrame.\n",
      "Try using .loc[row_indexer,col_indexer] = value instead\n",
      "\n",
      "See the caveats in the documentation: https://pandas.pydata.org/pandas-docs/stable/user_guide/indexing.html#returning-a-view-versus-a-copy\n",
      "  my_df['Preu_filled'] = my_df['Preu'].fillna(mean_preu)\n"
     ]
    },
    {
     "data": {
      "text/html": [
       "<div>\n",
       "<style scoped>\n",
       "    .dataframe tbody tr th:only-of-type {\n",
       "        vertical-align: middle;\n",
       "    }\n",
       "\n",
       "    .dataframe tbody tr th {\n",
       "        vertical-align: top;\n",
       "    }\n",
       "\n",
       "    .dataframe thead th {\n",
       "        text-align: right;\n",
       "    }\n",
       "</style>\n",
       "<table border=\"1\" class=\"dataframe\">\n",
       "  <thead>\n",
       "    <tr style=\"text-align: right;\">\n",
       "      <th></th>\n",
       "      <th>Nom_Districte</th>\n",
       "      <th>Trimestre</th>\n",
       "      <th>Nom_Barri</th>\n",
       "      <th>Preu</th>\n",
       "      <th>Lloguer_mitja</th>\n",
       "      <th>Preu_filled</th>\n",
       "    </tr>\n",
       "  </thead>\n",
       "  <tbody>\n",
       "    <tr>\n",
       "      <th>0</th>\n",
       "      <td>Ciutat Vella</td>\n",
       "      <td>1</td>\n",
       "      <td>el Raval</td>\n",
       "      <td>759.2</td>\n",
       "      <td>Lloguer mitjà mensual (Euros/mes)</td>\n",
       "      <td>759.2</td>\n",
       "    </tr>\n",
       "    <tr>\n",
       "      <th>1</th>\n",
       "      <td>Ciutat Vella</td>\n",
       "      <td>1</td>\n",
       "      <td>el Barri Gòtic</td>\n",
       "      <td>929.6</td>\n",
       "      <td>Lloguer mitjà mensual (Euros/mes)</td>\n",
       "      <td>929.6</td>\n",
       "    </tr>\n",
       "    <tr>\n",
       "      <th>2</th>\n",
       "      <td>Ciutat Vella</td>\n",
       "      <td>1</td>\n",
       "      <td>la Barceloneta</td>\n",
       "      <td>808.9</td>\n",
       "      <td>Lloguer mitjà mensual (Euros/mes)</td>\n",
       "      <td>808.9</td>\n",
       "    </tr>\n",
       "    <tr>\n",
       "      <th>3</th>\n",
       "      <td>Ciutat Vella</td>\n",
       "      <td>1</td>\n",
       "      <td>Sant Pere, Santa Caterina i la Ribera</td>\n",
       "      <td>879.4</td>\n",
       "      <td>Lloguer mitjà mensual (Euros/mes)</td>\n",
       "      <td>879.4</td>\n",
       "    </tr>\n",
       "    <tr>\n",
       "      <th>4</th>\n",
       "      <td>Eixample</td>\n",
       "      <td>1</td>\n",
       "      <td>el Fort Pienc</td>\n",
       "      <td>918.0</td>\n",
       "      <td>Lloguer mitjà mensual (Euros/mes)</td>\n",
       "      <td>918.0</td>\n",
       "    </tr>\n",
       "  </tbody>\n",
       "</table>\n",
       "</div>"
      ],
      "text/plain": [
       "  Nom_Districte  Trimestre                              Nom_Barri   Preu  \\\n",
       "0  Ciutat Vella          1                               el Raval  759.2   \n",
       "1  Ciutat Vella          1                         el Barri Gòtic  929.6   \n",
       "2  Ciutat Vella          1                         la Barceloneta  808.9   \n",
       "3  Ciutat Vella          1  Sant Pere, Santa Caterina i la Ribera  879.4   \n",
       "4      Eixample          1                          el Fort Pienc  918.0   \n",
       "\n",
       "                       Lloguer_mitja  Preu_filled  \n",
       "0  Lloguer mitjà mensual (Euros/mes)        759.2  \n",
       "1  Lloguer mitjà mensual (Euros/mes)        929.6  \n",
       "2  Lloguer mitjà mensual (Euros/mes)        808.9  \n",
       "3  Lloguer mitjà mensual (Euros/mes)        879.4  \n",
       "4  Lloguer mitjà mensual (Euros/mes)        918.0  "
      ]
     },
     "execution_count": 592,
     "metadata": {},
     "output_type": "execute_result"
    }
   ],
   "source": [
    "my_df['Preu_filled'] = my_df['Preu'].fillna(mean_preu)\n",
    "my_df.head()"
   ]
  },
  {
   "cell_type": "markdown",
   "id": "eca765e1",
   "metadata": {},
   "source": [
    "### Por ultimo agregamos la columna Preu modificada con las medias de precio para que no haya valores NaN al my_df con el cual trabajaremos durante los ejercicios."
   ]
  },
  {
   "cell_type": "markdown",
   "id": "47e0ec7e",
   "metadata": {},
   "source": [
    "### Crea almenys una visualització per:\n",
    "#### Una variable categòrica (Districte o Barri)"
   ]
  },
  {
   "cell_type": "code",
   "execution_count": 593,
   "id": "d5c18e91",
   "metadata": {},
   "outputs": [
    {
     "name": "stdout",
     "output_type": "stream",
     "text": [
      "Nou Barris             104\n",
      "Horta-Guinardó          88\n",
      "Sant Martí              80\n",
      "Sants-Montjuïc          64\n",
      "Sant Andreu             56\n",
      "Eixample                48\n",
      "Sarrià-Sant Gervasi     48\n",
      "Gràcia                  40\n",
      "Ciutat Vella            32\n",
      "Les Corts               24\n",
      "Name: Nom_Districte, dtype: int64\n"
     ]
    }
   ],
   "source": [
    "Distrito = df['Nom_Districte'].value_counts()\n",
    "print(Distrito)"
   ]
  },
  {
   "cell_type": "markdown",
   "id": "a1f3d349",
   "metadata": {},
   "source": [
    "### Para visualizar una variable categorica (variable que indica categoria, no numerica) podemos coger la columna que refiere a Districto, en donde aplicando el metodo value_counts() obtenemos un resumen de la frecuencia de los valores en la columna Nom_Districte en donde se visualizan de mayor a menor, esto nos resulta util para resumir los datos categoricos."
   ]
  },
  {
   "cell_type": "code",
   "execution_count": 594,
   "id": "e1f1fe60",
   "metadata": {},
   "outputs": [
    {
     "data": {
      "image/png": "[encoded data removed]",
      "text/plain": [
       "<Figure size 1000x600 with 1 Axes>"
      ]
     },
     "metadata": {},
     "output_type": "display_data"
    },
    {
     "data": {
      "text/plain": [
       "<Figure size 640x480 with 0 Axes>"
      ]
     },
     "metadata": {},
     "output_type": "display_data"
    }
   ],
   "source": [
    "plt.figure(figsize=(10, 6))\n",
    "Distrito.plot(kind='bar', color='c')\n",
    "plt.title(' Cantidad de Alquileres por Distrito')\n",
    "plt.xlabel('Distrito')\n",
    "plt.ylabel('Cantidad')\n",
    "\n",
    "plt.tight_layout()\n",
    "plt.show()\n",
    "\n",
    "plt.savefig('CantidadAlquileresDistrito.jpeg', dpi=500)"
   ]
  },
  {
   "cell_type": "markdown",
   "id": "4308ab21",
   "metadata": {},
   "source": [
    "### Para representar graficamente los datos obtenidos mediante el value_counts hecho en el paso anterior, utilizamos la biblioteca matplotlib para mostrar el grafico en este caso en forma de barras con el metodo .plot en donde podemos ver que en el Eje Y se representan la cantidad de alquileres que contiene el dataset, en el Eje X el nombre de los districtos en donde se ubican esos alquileres por lo que el tamaño de las barras indica la cantidad de alquileres que hay en cada distrito. En este grafico podemos ver que para el barrio Nou Barris hay mas de 100 alquileres, y dentro del top ten el mas pequeño es el barrio de Les Corts con poco mas de 20 alquileres."
   ]
  },
  {
   "cell_type": "markdown",
   "id": "23764b8e",
   "metadata": {},
   "source": [
    "### Una variable numèrica (Preu)"
   ]
  },
  {
   "cell_type": "code",
   "execution_count": 595,
   "id": "47ac3b53",
   "metadata": {},
   "outputs": [
    {
     "data": {
      "text/html": [
       "<div>\n",
       "<style scoped>\n",
       "    .dataframe tbody tr th:only-of-type {\n",
       "        vertical-align: middle;\n",
       "    }\n",
       "\n",
       "    .dataframe tbody tr th {\n",
       "        vertical-align: top;\n",
       "    }\n",
       "\n",
       "    .dataframe thead th {\n",
       "        text-align: right;\n",
       "    }\n",
       "</style>\n",
       "<table border=\"1\" class=\"dataframe\">\n",
       "  <thead>\n",
       "    <tr style=\"text-align: right;\">\n",
       "      <th></th>\n",
       "      <th>Nom_Districte</th>\n",
       "      <th>Trimestre</th>\n",
       "      <th>Nom_Barri</th>\n",
       "      <th>Preu</th>\n",
       "      <th>Lloguer_mitja</th>\n",
       "    </tr>\n",
       "  </thead>\n",
       "  <tbody>\n",
       "    <tr>\n",
       "      <th>312</th>\n",
       "      <td>Les Corts</td>\n",
       "      <td>3</td>\n",
       "      <td>Pedralbes</td>\n",
       "      <td>1816.5</td>\n",
       "      <td>Lloguer mitjà mensual (Euros/mes)</td>\n",
       "    </tr>\n",
       "    <tr>\n",
       "      <th>166</th>\n",
       "      <td>Les Corts</td>\n",
       "      <td>2</td>\n",
       "      <td>Pedralbes</td>\n",
       "      <td>1680.3</td>\n",
       "      <td>Lloguer mitjà mensual (Euros/mes)</td>\n",
       "    </tr>\n",
       "    <tr>\n",
       "      <th>458</th>\n",
       "      <td>Les Corts</td>\n",
       "      <td>4</td>\n",
       "      <td>Pedralbes</td>\n",
       "      <td>1679.3</td>\n",
       "      <td>Lloguer mitjà mensual (Euros/mes)</td>\n",
       "    </tr>\n",
       "    <tr>\n",
       "      <th>20</th>\n",
       "      <td>Les Corts</td>\n",
       "      <td>1</td>\n",
       "      <td>Pedralbes</td>\n",
       "      <td>1598.2</td>\n",
       "      <td>Lloguer mitjà mensual (Euros/mes)</td>\n",
       "    </tr>\n",
       "    <tr>\n",
       "      <th>461</th>\n",
       "      <td>Sarrià-Sant Gervasi</td>\n",
       "      <td>4</td>\n",
       "      <td>les Tres Torres</td>\n",
       "      <td>1597.4</td>\n",
       "      <td>Lloguer mitjà mensual (Euros/mes)</td>\n",
       "    </tr>\n",
       "    <tr>\n",
       "      <th>23</th>\n",
       "      <td>Sarrià-Sant Gervasi</td>\n",
       "      <td>1</td>\n",
       "      <td>les Tres Torres</td>\n",
       "      <td>1578.0</td>\n",
       "      <td>Lloguer mitjà mensual (Euros/mes)</td>\n",
       "    </tr>\n",
       "    <tr>\n",
       "      <th>315</th>\n",
       "      <td>Sarrià-Sant Gervasi</td>\n",
       "      <td>3</td>\n",
       "      <td>les Tres Torres</td>\n",
       "      <td>1566.5</td>\n",
       "      <td>Lloguer mitjà mensual (Euros/mes)</td>\n",
       "    </tr>\n",
       "    <tr>\n",
       "      <th>21</th>\n",
       "      <td>Sarrià-Sant Gervasi</td>\n",
       "      <td>1</td>\n",
       "      <td>Vallvidrera, el Tibidabo i les Planes</td>\n",
       "      <td>1531.7</td>\n",
       "      <td>Lloguer mitjà mensual (Euros/mes)</td>\n",
       "    </tr>\n",
       "    <tr>\n",
       "      <th>463</th>\n",
       "      <td>Sarrià-Sant Gervasi</td>\n",
       "      <td>4</td>\n",
       "      <td>Sant Gervasi - Galvany</td>\n",
       "      <td>1433.7</td>\n",
       "      <td>Lloguer mitjà mensual (Euros/mes)</td>\n",
       "    </tr>\n",
       "    <tr>\n",
       "      <th>169</th>\n",
       "      <td>Sarrià-Sant Gervasi</td>\n",
       "      <td>2</td>\n",
       "      <td>les Tres Torres</td>\n",
       "      <td>1429.0</td>\n",
       "      <td>Lloguer mitjà mensual (Euros/mes)</td>\n",
       "    </tr>\n",
       "  </tbody>\n",
       "</table>\n",
       "</div>"
      ],
      "text/plain": [
       "           Nom_Districte  Trimestre                              Nom_Barri  \\\n",
       "312            Les Corts          3                              Pedralbes   \n",
       "166            Les Corts          2                              Pedralbes   \n",
       "458            Les Corts          4                              Pedralbes   \n",
       "20             Les Corts          1                              Pedralbes   \n",
       "461  Sarrià-Sant Gervasi          4                        les Tres Torres   \n",
       "23   Sarrià-Sant Gervasi          1                        les Tres Torres   \n",
       "315  Sarrià-Sant Gervasi          3                        les Tres Torres   \n",
       "21   Sarrià-Sant Gervasi          1  Vallvidrera, el Tibidabo i les Planes   \n",
       "463  Sarrià-Sant Gervasi          4                 Sant Gervasi - Galvany   \n",
       "169  Sarrià-Sant Gervasi          2                        les Tres Torres   \n",
       "\n",
       "       Preu                      Lloguer_mitja  \n",
       "312  1816.5  Lloguer mitjà mensual (Euros/mes)  \n",
       "166  1680.3  Lloguer mitjà mensual (Euros/mes)  \n",
       "458  1679.3  Lloguer mitjà mensual (Euros/mes)  \n",
       "20   1598.2  Lloguer mitjà mensual (Euros/mes)  \n",
       "461  1597.4  Lloguer mitjà mensual (Euros/mes)  \n",
       "23   1578.0  Lloguer mitjà mensual (Euros/mes)  \n",
       "315  1566.5  Lloguer mitjà mensual (Euros/mes)  \n",
       "21   1531.7  Lloguer mitjà mensual (Euros/mes)  \n",
       "463  1433.7  Lloguer mitjà mensual (Euros/mes)  \n",
       "169  1429.0  Lloguer mitjà mensual (Euros/mes)  "
      ]
     },
     "execution_count": 595,
     "metadata": {},
     "output_type": "execute_result"
    }
   ],
   "source": [
    "preu_sorted = preu_filled.sort_values(by='Preu', ascending=False) #sort_values para para ordenar el dataset de forma descendiente.\n",
    "top_ten = preu_sorted.head(10) # Luego pediremos que nos enseñe solo los 10 primeros registros \n",
    "top_ten"
   ]
  },
  {
   "cell_type": "markdown",
   "id": "7678bac2",
   "metadata": {},
   "source": [
    "### Para graficar la variable numerica Preu primero ordenaremos nuestro DataFrame de forma descendiente declarando una nueva variable en este caso preu_sorted con el metodo sort_values ingresando como primer valor el nombre de la columna y segundo que sea de forma descendiente.\n",
    "### Luego de visualizar el resultado podemos ver que el Distrito donde el Precio es el mas elevado es Les Corts, en donde los primeros 4 registros pertenecen al barrio de Pedralbes. A continuacion filtraremos los barrios repetidos para que podamos ver cuales son los alquileres mas caros por barrio."
   ]
  },
  {
   "cell_type": "code",
   "execution_count": 596,
   "id": "6f47e9f3",
   "metadata": {},
   "outputs": [
    {
     "data": {
      "text/html": [
       "<div>\n",
       "<style scoped>\n",
       "    .dataframe tbody tr th:only-of-type {\n",
       "        vertical-align: middle;\n",
       "    }\n",
       "\n",
       "    .dataframe tbody tr th {\n",
       "        vertical-align: top;\n",
       "    }\n",
       "\n",
       "    .dataframe thead th {\n",
       "        text-align: right;\n",
       "    }\n",
       "</style>\n",
       "<table border=\"1\" class=\"dataframe\">\n",
       "  <thead>\n",
       "    <tr style=\"text-align: right;\">\n",
       "      <th></th>\n",
       "      <th>Nom_Districte</th>\n",
       "      <th>Trimestre</th>\n",
       "      <th>Nom_Barri</th>\n",
       "      <th>Preu</th>\n",
       "      <th>Lloguer_mitja</th>\n",
       "    </tr>\n",
       "  </thead>\n",
       "  <tbody>\n",
       "    <tr>\n",
       "      <th>312</th>\n",
       "      <td>Les Corts</td>\n",
       "      <td>3</td>\n",
       "      <td>Pedralbes</td>\n",
       "      <td>1816.5</td>\n",
       "      <td>Lloguer mitjà mensual (Euros/mes)</td>\n",
       "    </tr>\n",
       "    <tr>\n",
       "      <th>461</th>\n",
       "      <td>Sarrià-Sant Gervasi</td>\n",
       "      <td>4</td>\n",
       "      <td>les Tres Torres</td>\n",
       "      <td>1597.4</td>\n",
       "      <td>Lloguer mitjà mensual (Euros/mes)</td>\n",
       "    </tr>\n",
       "    <tr>\n",
       "      <th>21</th>\n",
       "      <td>Sarrià-Sant Gervasi</td>\n",
       "      <td>1</td>\n",
       "      <td>Vallvidrera, el Tibidabo i les Planes</td>\n",
       "      <td>1531.7</td>\n",
       "      <td>Lloguer mitjà mensual (Euros/mes)</td>\n",
       "    </tr>\n",
       "    <tr>\n",
       "      <th>463</th>\n",
       "      <td>Sarrià-Sant Gervasi</td>\n",
       "      <td>4</td>\n",
       "      <td>Sant Gervasi - Galvany</td>\n",
       "      <td>1433.7</td>\n",
       "      <td>Lloguer mitjà mensual (Euros/mes)</td>\n",
       "    </tr>\n",
       "    <tr>\n",
       "      <th>504</th>\n",
       "      <td>Sant Martí</td>\n",
       "      <td>4</td>\n",
       "      <td>la Vila Olímpica del Poblenou</td>\n",
       "      <td>1364.7</td>\n",
       "      <td>Lloguer mitjà mensual (Euros/mes)</td>\n",
       "    </tr>\n",
       "    <tr>\n",
       "      <th>314</th>\n",
       "      <td>Sarrià-Sant Gervasi</td>\n",
       "      <td>3</td>\n",
       "      <td>Sarrià</td>\n",
       "      <td>1345.2</td>\n",
       "      <td>Lloguer mitjà mensual (Euros/mes)</td>\n",
       "    </tr>\n",
       "    <tr>\n",
       "      <th>24</th>\n",
       "      <td>Sarrià-Sant Gervasi</td>\n",
       "      <td>1</td>\n",
       "      <td>Sant Gervasi - la Bonanova</td>\n",
       "      <td>1264.8</td>\n",
       "      <td>Lloguer mitjà mensual (Euros/mes)</td>\n",
       "    </tr>\n",
       "    <tr>\n",
       "      <th>444</th>\n",
       "      <td>Eixample</td>\n",
       "      <td>4</td>\n",
       "      <td>la Dreta de l'Eixample</td>\n",
       "      <td>1220.8</td>\n",
       "      <td>Lloguer mitjà mensual (Euros/mes)</td>\n",
       "    </tr>\n",
       "    <tr>\n",
       "      <th>506</th>\n",
       "      <td>Sant Martí</td>\n",
       "      <td>4</td>\n",
       "      <td>Diagonal Mar i el Front Marítim del Poblenou</td>\n",
       "      <td>1205.3</td>\n",
       "      <td>Lloguer mitjà mensual (Euros/mes)</td>\n",
       "    </tr>\n",
       "    <tr>\n",
       "      <th>445</th>\n",
       "      <td>Eixample</td>\n",
       "      <td>4</td>\n",
       "      <td>l'Antiga Esquerra de l'Eixample</td>\n",
       "      <td>1114.9</td>\n",
       "      <td>Lloguer mitjà mensual (Euros/mes)</td>\n",
       "    </tr>\n",
       "  </tbody>\n",
       "</table>\n",
       "</div>"
      ],
      "text/plain": [
       "           Nom_Districte  Trimestre  \\\n",
       "312            Les Corts          3   \n",
       "461  Sarrià-Sant Gervasi          4   \n",
       "21   Sarrià-Sant Gervasi          1   \n",
       "463  Sarrià-Sant Gervasi          4   \n",
       "504           Sant Martí          4   \n",
       "314  Sarrià-Sant Gervasi          3   \n",
       "24   Sarrià-Sant Gervasi          1   \n",
       "444             Eixample          4   \n",
       "506           Sant Martí          4   \n",
       "445             Eixample          4   \n",
       "\n",
       "                                        Nom_Barri    Preu  \\\n",
       "312                                     Pedralbes  1816.5   \n",
       "461                               les Tres Torres  1597.4   \n",
       "21          Vallvidrera, el Tibidabo i les Planes  1531.7   \n",
       "463                        Sant Gervasi - Galvany  1433.7   \n",
       "504                 la Vila Olímpica del Poblenou  1364.7   \n",
       "314                                        Sarrià  1345.2   \n",
       "24                     Sant Gervasi - la Bonanova  1264.8   \n",
       "444                        la Dreta de l'Eixample  1220.8   \n",
       "506  Diagonal Mar i el Front Marítim del Poblenou  1205.3   \n",
       "445               l'Antiga Esquerra de l'Eixample  1114.9   \n",
       "\n",
       "                         Lloguer_mitja  \n",
       "312  Lloguer mitjà mensual (Euros/mes)  \n",
       "461  Lloguer mitjà mensual (Euros/mes)  \n",
       "21   Lloguer mitjà mensual (Euros/mes)  \n",
       "463  Lloguer mitjà mensual (Euros/mes)  \n",
       "504  Lloguer mitjà mensual (Euros/mes)  \n",
       "314  Lloguer mitjà mensual (Euros/mes)  \n",
       "24   Lloguer mitjà mensual (Euros/mes)  \n",
       "444  Lloguer mitjà mensual (Euros/mes)  \n",
       "506  Lloguer mitjà mensual (Euros/mes)  \n",
       "445  Lloguer mitjà mensual (Euros/mes)  "
      ]
     },
     "execution_count": 596,
     "metadata": {},
     "output_type": "execute_result"
    }
   ],
   "source": [
    "df_nonduplicate = preu_sorted.drop_duplicates(subset='Nom_Barri') #drop_duplicates para filtrar los barrios duplicados\n",
    "top_ten2 = df_nonduplicate.head(10)\n",
    "top_ten2"
   ]
  },
  {
   "cell_type": "markdown",
   "id": "e73bc23a",
   "metadata": {},
   "source": [
    "### Luego de indicar que solo se enseñen los barrios que no esten duplicados mediante el metodo drop_duplicates podemos ver el alquiler mas elevado por barrio al que hemos nombrado df_nonduplicate, posteriormente indicamos que solo nos muestre los 10 primeros registros con el metodo head(10) al que hemos llamado top_ten2 y queda listo para poder ser graficado"
   ]
  },
  {
   "cell_type": "code",
   "execution_count": 597,
   "id": "0f527143",
   "metadata": {},
   "outputs": [
    {
     "data": {
      "image/png": "[encoded data removed]",
      "text/plain": [
       "<Figure size 1000x600 with 1 Axes>"
      ]
     },
     "metadata": {},
     "output_type": "display_data"
    },
    {
     "data": {
      "text/plain": [
       "<Figure size 640x480 with 0 Axes>"
      ]
     },
     "metadata": {},
     "output_type": "display_data"
    }
   ],
   "source": [
    "plt.figure(figsize=(10, 6))\n",
    "plt.bar(top_ten2['Nom_Barri'], top_ten2['Preu'], color='g')\n",
    "plt.title('Top 10 Barrios mas caros')\n",
    "plt.xlabel('Barrio')\n",
    "plt.ylabel('Precio')\n",
    "\n",
    "plt.xticks(rotation=90)\n",
    "plt.tight_layout()\n",
    "plt.show()\n",
    "\n",
    "plt.savefig('top10BarriosMasCaros.jpeg', dpi=500)"
   ]
  },
  {
   "cell_type": "markdown",
   "id": "0156a83e",
   "metadata": {},
   "source": [
    "### Luego de graficar la variable Preu podemos ver que el valor mas elevado es para el barrio de Pedralbel con mas de 1800€  y el  para el barrio de Les_corts y el mas pequeño dentro del top ten es para L' antigua esquerra del Eixample."
   ]
  },
  {
   "cell_type": "markdown",
   "id": "97e75fa7",
   "metadata": {},
   "source": [
    "### Una variable numèrica i una categòrica (Districte i Preu)"
   ]
  },
  {
   "cell_type": "code",
   "execution_count": 598,
   "id": "7f0833cb",
   "metadata": {},
   "outputs": [],
   "source": [
    "top_ten2_sorted = top_ten2.sort_values(by='Preu')"
   ]
  },
  {
   "cell_type": "code",
   "execution_count": 599,
   "id": "2640c6e1",
   "metadata": {},
   "outputs": [
    {
     "data": {
      "image/png": "[encoded data removed]",
      "text/plain": [
       "<Figure size 1000x600 with 1 Axes>"
      ]
     },
     "metadata": {},
     "output_type": "display_data"
    },
    {
     "data": {
      "text/plain": [
       "<Figure size 640x480 with 0 Axes>"
      ]
     },
     "metadata": {},
     "output_type": "display_data"
    }
   ],
   "source": [
    "plt.figure(figsize=(10, 6))\n",
    "plt.bar(top_ten2_sorted['Nom_Districte'], top_ten2_sorted['Preu'], color='m', width= 0.5)\n",
    "plt.title('Precio por Distrito')\n",
    "plt.xlabel('Barrio')\n",
    "plt.ylabel('Precio')\n",
    "\n",
    "plt.xticks(rotation=45)\n",
    "plt.tight_layout()\n",
    "plt.show()\n",
    "\n",
    "plt.savefig('PreciosXDistrito.jpeg', dpi=500)"
   ]
  },
  {
   "cell_type": "markdown",
   "id": "771bb49f",
   "metadata": {},
   "source": [
    "### Luego de graficar ambas variables numerica y categorica podemos ver que el distrito de Les Corts es el del precio mas alevado y eixample el menos dentro del top ten"
   ]
  },
  {
   "cell_type": "markdown",
   "id": "d878dca7",
   "metadata": {},
   "source": [
    "### Dues variables numèriques (Any o Trimestre i Preu)"
   ]
  },
  {
   "cell_type": "code",
   "execution_count": 600,
   "id": "a2d7dbd6",
   "metadata": {},
   "outputs": [
    {
     "data": {
      "image/png": "[encoded data removed]",
      "text/plain": [
       "<Figure size 1000x600 with 1 Axes>"
      ]
     },
     "metadata": {},
     "output_type": "display_data"
    },
    {
     "data": {
      "text/plain": [
       "<Figure size 640x480 with 0 Axes>"
      ]
     },
     "metadata": {},
     "output_type": "display_data"
    }
   ],
   "source": [
    "plt.figure(figsize=(10, 6))\n",
    "plt.scatter(preu_filled['Trimestre'], preu_filled['Preu'], color='r', marker='o', alpha= 0.5)\n",
    "plt.title('Grafico de dispercion entre Trimestre y Precio')\n",
    "plt.xlabel('Trimestre')\n",
    "plt.ylabel('Precio')\n",
    "\n",
    "plt.tight_layout()\n",
    "plt.show()\n",
    "\n",
    "plt.savefig('DispercionTrimestrePrecio.jpeg', dpi=500)"
   ]
  },
  {
   "cell_type": "markdown",
   "id": "2e26877a",
   "metadata": {},
   "source": [
    "### Mediante este grafico de dispersión podemos ver la relacion entre las dos variables numericas Precio expresada en el eje Y y Trimestre expresada en el eje X, lo que podemos apreciar es que durante los cuatro trimestres la agrupacion de puntos refleja que precio es parecida y tiene una correlacion positiva ya que aumentan en conjunto, Tambien se puede apreciar con una pequeña variacion en el tercero indicando que suele ser el mas caro, en cuanto a los valores atipicos entontramos los alquileres mas caros, ya que se encuentran fuera de la media con respecto a los demas."
   ]
  },
  {
   "cell_type": "markdown",
   "id": "8380752a",
   "metadata": {},
   "source": [
    "### Tres variables (Barri o Districte, Trimestre i Preu)"
   ]
  },
  {
   "cell_type": "code",
   "execution_count": 601,
   "id": "70ec6196",
   "metadata": {},
   "outputs": [
    {
     "data": {
      "text/plain": [
       "array(['Ciutat Vella', 'Eixample', 'Sants-Montjuïc', 'Les Corts',\n",
       "       'Sarrià-Sant Gervasi'], dtype=object)"
      ]
     },
     "execution_count": 601,
     "metadata": {},
     "output_type": "execute_result"
    }
   ],
   "source": [
    "distritos_1 = my_df['Nom_Districte'].unique()[:5]\n",
    "distritos_2 = my_df['Nom_Districte'].unique()[5:10]\n",
    "\n",
    "distritos_1"
   ]
  },
  {
   "cell_type": "code",
   "execution_count": 602,
   "id": "67cfda5e",
   "metadata": {},
   "outputs": [
    {
     "data": {
      "text/plain": [
       "array(['Gràcia', 'Horta-Guinardó', 'Nou Barris', 'Sant Andreu',\n",
       "       'Sant Martí'], dtype=object)"
      ]
     },
     "execution_count": 602,
     "metadata": {},
     "output_type": "execute_result"
    }
   ],
   "source": [
    "distritos_2"
   ]
  },
  {
   "cell_type": "markdown",
   "id": "1f77e5d9",
   "metadata": {},
   "source": [
    "### Para hacer una representacion grafica de 3 o mas variables puede utilizarse un grafico de Caja y Bigotes, pero en el caso de nuestro dataset la columna Nom_Districte contiene 10 tipos de diferentes registros lo que hace que la visualizacion sea poco legible, para ello dividiremos los registros de esta columna en dos grupos distritos_1 y distritos_2 indicando que solo muestre los que no se repiten con el metodo unique()."
   ]
  },
  {
   "cell_type": "code",
   "execution_count": 603,
   "id": "eb0599ff",
   "metadata": {},
   "outputs": [
    {
     "data": {
      "text/html": [
       "<div>\n",
       "<style scoped>\n",
       "    .dataframe tbody tr th:only-of-type {\n",
       "        vertical-align: middle;\n",
       "    }\n",
       "\n",
       "    .dataframe tbody tr th {\n",
       "        vertical-align: top;\n",
       "    }\n",
       "\n",
       "    .dataframe thead th {\n",
       "        text-align: right;\n",
       "    }\n",
       "</style>\n",
       "<table border=\"1\" class=\"dataframe\">\n",
       "  <thead>\n",
       "    <tr style=\"text-align: right;\">\n",
       "      <th></th>\n",
       "      <th>Nom_Districte</th>\n",
       "      <th>Trimestre</th>\n",
       "      <th>Nom_Barri</th>\n",
       "      <th>Preu</th>\n",
       "      <th>Lloguer_mitja</th>\n",
       "      <th>Preu_filled</th>\n",
       "    </tr>\n",
       "  </thead>\n",
       "  <tbody>\n",
       "    <tr>\n",
       "      <th>0</th>\n",
       "      <td>Ciutat Vella</td>\n",
       "      <td>1</td>\n",
       "      <td>el Raval</td>\n",
       "      <td>759.2</td>\n",
       "      <td>Lloguer mitjà mensual (Euros/mes)</td>\n",
       "      <td>759.2</td>\n",
       "    </tr>\n",
       "    <tr>\n",
       "      <th>1</th>\n",
       "      <td>Ciutat Vella</td>\n",
       "      <td>1</td>\n",
       "      <td>el Barri Gòtic</td>\n",
       "      <td>929.6</td>\n",
       "      <td>Lloguer mitjà mensual (Euros/mes)</td>\n",
       "      <td>929.6</td>\n",
       "    </tr>\n",
       "    <tr>\n",
       "      <th>2</th>\n",
       "      <td>Ciutat Vella</td>\n",
       "      <td>1</td>\n",
       "      <td>la Barceloneta</td>\n",
       "      <td>808.9</td>\n",
       "      <td>Lloguer mitjà mensual (Euros/mes)</td>\n",
       "      <td>808.9</td>\n",
       "    </tr>\n",
       "    <tr>\n",
       "      <th>3</th>\n",
       "      <td>Ciutat Vella</td>\n",
       "      <td>1</td>\n",
       "      <td>Sant Pere, Santa Caterina i la Ribera</td>\n",
       "      <td>879.4</td>\n",
       "      <td>Lloguer mitjà mensual (Euros/mes)</td>\n",
       "      <td>879.4</td>\n",
       "    </tr>\n",
       "    <tr>\n",
       "      <th>4</th>\n",
       "      <td>Eixample</td>\n",
       "      <td>1</td>\n",
       "      <td>el Fort Pienc</td>\n",
       "      <td>918.0</td>\n",
       "      <td>Lloguer mitjà mensual (Euros/mes)</td>\n",
       "      <td>918.0</td>\n",
       "    </tr>\n",
       "  </tbody>\n",
       "</table>\n",
       "</div>"
      ],
      "text/plain": [
       "  Nom_Districte  Trimestre                              Nom_Barri   Preu  \\\n",
       "0  Ciutat Vella          1                               el Raval  759.2   \n",
       "1  Ciutat Vella          1                         el Barri Gòtic  929.6   \n",
       "2  Ciutat Vella          1                         la Barceloneta  808.9   \n",
       "3  Ciutat Vella          1  Sant Pere, Santa Caterina i la Ribera  879.4   \n",
       "4      Eixample          1                          el Fort Pienc  918.0   \n",
       "\n",
       "                       Lloguer_mitja  Preu_filled  \n",
       "0  Lloguer mitjà mensual (Euros/mes)        759.2  \n",
       "1  Lloguer mitjà mensual (Euros/mes)        929.6  \n",
       "2  Lloguer mitjà mensual (Euros/mes)        808.9  \n",
       "3  Lloguer mitjà mensual (Euros/mes)        879.4  \n",
       "4  Lloguer mitjà mensual (Euros/mes)        918.0  "
      ]
     },
     "execution_count": 603,
     "metadata": {},
     "output_type": "execute_result"
    }
   ],
   "source": [
    "group_1 = my_df[my_df['Nom_Districte'].isin(distritos_1)]\n",
    "group_2 = my_df[my_df['Nom_Districte'].isin(distritos_2)]\n",
    "\n",
    "group_1.head()"
   ]
  },
  {
   "cell_type": "markdown",
   "id": "b64a2d34",
   "metadata": {},
   "source": [
    "### Una vez divididos los distritos en 2 grupos de 5, creamos las variables llamadas grupo_1 y grupo 2 para indicar mediante el metodo .isin() donde indica que valores de las listas se agregaran a la variable."
   ]
  },
  {
   "cell_type": "code",
   "execution_count": 604,
   "id": "6406a3eb",
   "metadata": {},
   "outputs": [
    {
     "data": {
      "image/png": "[encoded data removed]",
      "text/plain": [
       "<Figure size 1200x600 with 1 Axes>"
      ]
     },
     "metadata": {},
     "output_type": "display_data"
    },
    {
     "data": {
      "text/plain": [
       "<Figure size 640x480 with 0 Axes>"
      ]
     },
     "metadata": {},
     "output_type": "display_data"
    }
   ],
   "source": [
    "plt.figure(figsize=(12, 6))\n",
    "\n",
    "\n",
    "sns.boxplot(data=group_1, x='Trimestre', y='Preu', hue='Nom_Districte')\n",
    "plt.xlabel('Trimestre')\n",
    "plt.ylabel('Precio')\n",
    "plt.title('Precio distritos grupo 1 por Trimestre')\n",
    "plt.legend(title='Distrito')\n",
    "plt.tight_layout()\n",
    "\n",
    "plt.show()\n",
    "\n",
    "plt.savefig('BoxPlotGrupo1.jpeg', dpi=500)"
   ]
  },
  {
   "cell_type": "markdown",
   "id": "ab45b90b",
   "metadata": {},
   "source": [
    "### Una vez creados los grupos de 5 distritos es mas facil graficarlos, en este caso con la biblioteca seaborn en forma de caja y bigotes, indicandole con el metodo .boxplot primero de donde coger la data (gruop_1) y luego los ejes X representan los trimestres, el eje Y los precios y HUE= cual es la tercer dimension en el grafico en este caso son los districtos representados por colores.\n",
    "\n",
    "### En este grafico podemos apreciar que entre los distritos de grupo uno durante el primer trimestre los distritos de Les Corts y Sarria tienen una dispercion de datos mas grande, lo que denota una variabilidad de los datos mayor mientras que los distritosde Sants-Montjuic, Ciutat Vella y Eixample tienen una dispercion mas pequeña, en este caso hay poca variabilidad de los datos. En cuanto a la distribucion simetrica en este trimestre podemos ver que los distritos de Ciutat Vella y Sants-Monjuic tienen una distribucion simetrica ya que la media se encuentra justo en medio de la caja, en cambio en Eixample, Les Corts y Sarria la distribucion es asimetrica positiva.\n",
    "\n",
    "\n",
    "### En el trimestre numero dos los diagramas son similares a los del primer trimestre aunque los valores para el distrito de Les Corts estan aun mas dispersos de forma positiva, con los datos agrupados mayormente entre el segundo y tercer cuartil con un bigote superior mucho mas alargado, y la media para el distrito de Sarria indica una dispercion mayor en el primer cuartil lo que indica que los datos estas agrupados con una asimetria negativa.\n",
    "\n",
    "### En los trimestres tres y cuatro los los diagramas son bastante similares a los del segundo trimestre con la diferencia de la aparición de valores atipicos con precios inferiores a los 700€ para el distrito de Sants-Montjuic."
   ]
  },
  {
   "cell_type": "code",
   "execution_count": 605,
   "id": "a18a2050",
   "metadata": {},
   "outputs": [
    {
     "data": {
      "text/html": [
       "<div>\n",
       "<style scoped>\n",
       "    .dataframe tbody tr th:only-of-type {\n",
       "        vertical-align: middle;\n",
       "    }\n",
       "\n",
       "    .dataframe tbody tr th {\n",
       "        vertical-align: top;\n",
       "    }\n",
       "\n",
       "    .dataframe thead th {\n",
       "        text-align: right;\n",
       "    }\n",
       "</style>\n",
       "<table border=\"1\" class=\"dataframe\">\n",
       "  <thead>\n",
       "    <tr style=\"text-align: right;\">\n",
       "      <th></th>\n",
       "      <th>Nom_Districte</th>\n",
       "      <th>Trimestre</th>\n",
       "      <th>Nom_Barri</th>\n",
       "      <th>Preu</th>\n",
       "      <th>Lloguer_mitja</th>\n",
       "      <th>Preu_filled</th>\n",
       "    </tr>\n",
       "  </thead>\n",
       "  <tbody>\n",
       "    <tr>\n",
       "      <th>27</th>\n",
       "      <td>Gràcia</td>\n",
       "      <td>1</td>\n",
       "      <td>Vallcarca i els Penitents</td>\n",
       "      <td>959.0</td>\n",
       "      <td>Lloguer mitjà mensual (Euros/mes)</td>\n",
       "      <td>959.0</td>\n",
       "    </tr>\n",
       "    <tr>\n",
       "      <th>28</th>\n",
       "      <td>Gràcia</td>\n",
       "      <td>1</td>\n",
       "      <td>el Coll</td>\n",
       "      <td>745.4</td>\n",
       "      <td>Lloguer mitjà mensual (Euros/mes)</td>\n",
       "      <td>745.4</td>\n",
       "    </tr>\n",
       "    <tr>\n",
       "      <th>29</th>\n",
       "      <td>Gràcia</td>\n",
       "      <td>1</td>\n",
       "      <td>la Salut</td>\n",
       "      <td>859.1</td>\n",
       "      <td>Lloguer mitjà mensual (Euros/mes)</td>\n",
       "      <td>859.1</td>\n",
       "    </tr>\n",
       "    <tr>\n",
       "      <th>30</th>\n",
       "      <td>Gràcia</td>\n",
       "      <td>1</td>\n",
       "      <td>la Vila de Gràcia</td>\n",
       "      <td>910.6</td>\n",
       "      <td>Lloguer mitjà mensual (Euros/mes)</td>\n",
       "      <td>910.6</td>\n",
       "    </tr>\n",
       "    <tr>\n",
       "      <th>31</th>\n",
       "      <td>Gràcia</td>\n",
       "      <td>1</td>\n",
       "      <td>el Camp d'en Grassot i Gràcia Nova</td>\n",
       "      <td>865.3</td>\n",
       "      <td>Lloguer mitjà mensual (Euros/mes)</td>\n",
       "      <td>865.3</td>\n",
       "    </tr>\n",
       "  </tbody>\n",
       "</table>\n",
       "</div>"
      ],
      "text/plain": [
       "   Nom_Districte  Trimestre                           Nom_Barri   Preu  \\\n",
       "27        Gràcia          1           Vallcarca i els Penitents  959.0   \n",
       "28        Gràcia          1                             el Coll  745.4   \n",
       "29        Gràcia          1                            la Salut  859.1   \n",
       "30        Gràcia          1                   la Vila de Gràcia  910.6   \n",
       "31        Gràcia          1  el Camp d'en Grassot i Gràcia Nova  865.3   \n",
       "\n",
       "                        Lloguer_mitja  Preu_filled  \n",
       "27  Lloguer mitjà mensual (Euros/mes)        959.0  \n",
       "28  Lloguer mitjà mensual (Euros/mes)        745.4  \n",
       "29  Lloguer mitjà mensual (Euros/mes)        859.1  \n",
       "30  Lloguer mitjà mensual (Euros/mes)        910.6  \n",
       "31  Lloguer mitjà mensual (Euros/mes)        865.3  "
      ]
     },
     "execution_count": 605,
     "metadata": {},
     "output_type": "execute_result"
    }
   ],
   "source": [
    "group_2.head()"
   ]
  },
  {
   "cell_type": "code",
   "execution_count": 606,
   "id": "045b3fd9",
   "metadata": {},
   "outputs": [
    {
     "data": {
      "image/png": "[encoded data removed]",
      "text/plain": [
       "<Figure size 1200x600 with 1 Axes>"
      ]
     },
     "metadata": {},
     "output_type": "display_data"
    },
    {
     "data": {
      "text/plain": [
       "<Figure size 640x480 with 0 Axes>"
      ]
     },
     "metadata": {},
     "output_type": "display_data"
    }
   ],
   "source": [
    "plt.figure(figsize=(12, 6))\n",
    "sns.boxplot(data=group_2, x='Trimestre', y='Preu', hue='Nom_Districte')\n",
    "plt.xlabel('Trimestre')\n",
    "plt.ylabel('Precio')\n",
    "plt.title('Precio distritos grupo 2 por Trimestre')\n",
    "plt.legend(title='Distrito')\n",
    "plt.tight_layout()\n",
    "\n",
    "plt.show()\n",
    "\n",
    "plt.savefig('BoxPlotGrupo2.jpeg', dpi=500)"
   ]
  },
  {
   "cell_type": "markdown",
   "id": "9a8e9ab4",
   "metadata": {},
   "source": [
    "### En el segundo grupo de distritos para todos los trimestres podemos apreciar una variabilidad de los datos mas equitativa con cajas mas pequeñas, en donde la dispercion de los datos en los casos de Horta, Nou Barris y sant Marti es casi simetrica, pero en el distrito de Gracia es simetrica positiva y en el caso de Sant Andreu simetrica negativa. Ademas de ello podemos ver que hay en todos los trimestres hay valores atipicos en algunos de los distritos."
   ]
  },
  {
   "cell_type": "markdown",
   "id": "bac08445",
   "metadata": {},
   "source": [
    "## - Exercici 3\n",
    "### Proposa alguna visualització que creguis que pot resultar interessant."
   ]
  },
  {
   "cell_type": "code",
   "execution_count": 607,
   "id": "2a398047",
   "metadata": {
    "scrolled": true
   },
   "outputs": [
    {
     "data": {
      "image/png": "[encoded data removed]",
      "text/plain": [
       "<Figure size 1800x1200 with 2 Axes>"
      ]
     },
     "metadata": {},
     "output_type": "display_data"
    }
   ],
   "source": [
    "heatmap_data = top_ten2_sorted.pivot_table(index='Nom_Districte', values='Preu', aggfunc='mean')\n",
    "\n",
    "\n",
    "plt.figure(figsize=(18, 12))\n",
    "sns.heatmap(data=heatmap_data, cmap='inferno', annot=True, fmt=\".2f\")\n",
    "plt.title('Mapa de Calor: Precio por Distrito')\n",
    "plt.xlabel('Distrito')\n",
    "plt.ylabel('')\n",
    "\n",
    "plt.show()"
   ]
  },
  {
   "cell_type": "markdown",
   "id": "ed06052d",
   "metadata": {},
   "source": [
    "### En este mapa de calor se visualizan las variables Districto y Precio en donde cada color representa una escala de precios para el inmueble."
   ]
  },
  {
   "cell_type": "code",
   "execution_count": null,
   "id": "179aa4cb",
   "metadata": {},
   "outputs": [],
   "source": []
  }
 ],
 "metadata": {
  "kernelspec": {
   "display_name": "Python 3 (ipykernel)",
   "language": "python",
   "name": "python3"
  },
  "language_info": {
   "codemirror_mode": {
    "name": "ipython",
    "version": 3
   },
   "file_extension": ".py",
   "mimetype": "text/x-python",
   "name": "python",
   "nbconvert_exporter": "python",
   "pygments_lexer": "ipython3",
   "version": "3.10.9"
  }
 },
 "nbformat": 4,
 "nbformat_minor": 5
}
